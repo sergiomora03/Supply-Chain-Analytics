{
 "cells": [
  {
   "cell_type": "markdown",
   "metadata": {},
   "source": [
    "# Warehouse Location"
   ]
  },
  {
   "cell_type": "markdown",
   "metadata": {},
   "source": [
    "This problem considers the optimal locations to build warehouses meeting customers' demands. Let $N$ be the set of candidate warehouse locations, and $M$ the set of customer locations. Also, we know $d_{nm}$, the cost of delivering product to customer $m$ from warehouse $n$.\n",
    "\n",
    "The binary variables $y_{n}$ take the value of 1, if warehouse $n$ is selected and 0 otherwise. \n",
    "The $x_{nm}$ variables indicate the fraction of the demand for customer $m$ served by warehouse $n$.\n",
    "\n",
    "Based on the implementation below, could you write down the corresponding algebraic formulation?"
   ]
  },
  {
   "cell_type": "code",
   "execution_count": 1,
   "metadata": {},
   "outputs": [],
   "source": [
    "from pyomo.environ import *"
   ]
  },
  {
   "cell_type": "code",
   "execution_count": 2,
   "metadata": {},
   "outputs": [],
   "source": [
    "#Data\n",
    "\n",
    "N = ['HAR', 'MEM', 'ASX']\n",
    "M = ['NYC', 'LAX', 'CHI', 'HOU']\n",
    "d = {('HAR', 'NYC'): 1956, ('HAR', 'LAX'): 1606,\\\n",
    "     ('HAR', 'CHI'): 1410, ('HAR', 'HOU'): 330, \\\n",
    "     ('MEM', 'NYC'): 1096, ('MEM', 'LAX'): 1792,\\\n",
    "     ('MEM', 'CHI'): 531,  ('MEM', 'HOU'): 567, \\\n",
    "     ('ASX', 'NYC'): 485,  ('ASX', 'LAX'): 2322,\\\n",
    "     ('ASX', 'CHI'): 324,  ('ASX', 'HOU'): 1236 }\n",
    "P = 3"
   ]
  },
  {
   "cell_type": "code",
   "execution_count": 3,
   "metadata": {},
   "outputs": [],
   "source": [
    "model = ConcreteModel()\n",
    "model.Locations = N\n",
    "model.Customers = M\n",
    "\n",
    "model.x = Var(model.Locations, model.Customers, bounds=(0.0,1.0))\n",
    "model.y = Var(model.Locations, within = Binary)"
   ]
  },
  {
   "cell_type": "code",
   "execution_count": 4,
   "metadata": {},
   "outputs": [],
   "source": [
    "model.obj = Objective(expr = sum(d[n,m]*model.x[n,m] for n in model.Locations for m in model.Customers))"
   ]
  },
  {
   "cell_type": "code",
   "execution_count": 5,
   "metadata": {},
   "outputs": [],
   "source": [
    "model.single_x = ConstraintList()\n",
    "for m in model.Customers:\n",
    "    model.single_x.add(sum( model.x[n,m] for n in model.Locations ) == 1.0)\n",
    "    \n",
    "model.bound_y = ConstraintList()\n",
    "for n in model.Locations:\n",
    "    for m in model.Customers:\n",
    "        model.bound_y.add(model.x[n,m] <= model.y[n])\n",
    "        \n",
    "model.num_facilities = Constraint(expr=sum( model.y[n] for n in model.Locations ) <= P)"
   ]
  },
  {
   "cell_type": "code",
   "execution_count": 6,
   "metadata": {},
   "outputs": [
    {
     "name": "stdout",
     "output_type": "stream",
     "text": [
      "\n",
      "*** Solution *** :\n",
      "\n",
      "Warehouse at HAR serving:\n",
      "--> LAX -- 100.0%\n",
      "--> HOU -- 100.0%\n",
      "\n",
      "Warehouse at ASX serving:\n",
      "--> NYC -- 100.0%\n",
      "--> CHI -- 100.0%\n",
      "\n",
      "\n",
      "*** Cost *** : $ 2745.00\n",
      "\n",
      "HAR serves customers: ['LAX', 'HOU']\n",
      "MEM: do not build\n",
      "ASX serves customers: ['NYC', 'CHI']\n",
      "\n",
      "\n",
      "OPTIMIZATION MODEL DETAILS:\n",
      "\n",
      "6 Set Declarations\n",
      "    bound_y_index : Dim=0, Dimen=1, Size=12, Domain=None, Ordered=False, Bounds=None\n",
      "        [1, 2, 3, 4, 5, 6, 7, 8, 9, 10, 11, 12]\n",
      "    single_x_index : Dim=0, Dimen=1, Size=4, Domain=None, Ordered=False, Bounds=None\n",
      "        [1, 2, 3, 4]\n",
      "    x_index : Dim=0, Dimen=2, Size=12, Domain=None, Ordered=False, Bounds=None\n",
      "        Virtual\n",
      "    x_index_0 : Dim=0, Dimen=1, Size=3, Domain=None, Ordered=False, Bounds=None\n",
      "        ['ASX', 'HAR', 'MEM']\n",
      "    x_index_1 : Dim=0, Dimen=1, Size=4, Domain=None, Ordered=False, Bounds=None\n",
      "        ['CHI', 'HOU', 'LAX', 'NYC']\n",
      "    y_index : Dim=0, Dimen=1, Size=3, Domain=None, Ordered=False, Bounds=None\n",
      "        ['ASX', 'HAR', 'MEM']\n",
      "\n",
      "2 Var Declarations\n",
      "    x : Size=12, Index=x_index\n",
      "        Key            : Lower : Value : Upper : Fixed : Stale : Domain\n",
      "        ('ASX', 'CHI') :   0.0 :   1.0 :   1.0 : False : False :  Reals\n",
      "        ('ASX', 'HOU') :   0.0 :   0.0 :   1.0 : False : False :  Reals\n",
      "        ('ASX', 'LAX') :   0.0 :   0.0 :   1.0 : False : False :  Reals\n",
      "        ('ASX', 'NYC') :   0.0 :   1.0 :   1.0 : False : False :  Reals\n",
      "        ('HAR', 'CHI') :   0.0 :   0.0 :   1.0 : False : False :  Reals\n",
      "        ('HAR', 'HOU') :   0.0 :   1.0 :   1.0 : False : False :  Reals\n",
      "        ('HAR', 'LAX') :   0.0 :   1.0 :   1.0 : False : False :  Reals\n",
      "        ('HAR', 'NYC') :   0.0 :   0.0 :   1.0 : False : False :  Reals\n",
      "        ('MEM', 'CHI') :   0.0 :   0.0 :   1.0 : False : False :  Reals\n",
      "        ('MEM', 'HOU') :   0.0 :   0.0 :   1.0 : False : False :  Reals\n",
      "        ('MEM', 'LAX') :   0.0 :   0.0 :   1.0 : False : False :  Reals\n",
      "        ('MEM', 'NYC') :   0.0 :   0.0 :   1.0 : False : False :  Reals\n",
      "    y : Size=3, Index=y_index\n",
      "        Key : Lower : Value : Upper : Fixed : Stale : Domain\n",
      "        ASX :     0 :   1.0 :     1 : False : False : Binary\n",
      "        HAR :     0 :   1.0 :     1 : False : False : Binary\n",
      "        MEM :     0 :   0.0 :     1 : False : False : Binary\n",
      "\n",
      "1 Objective Declarations\n",
      "    obj : Size=1, Index=None, Active=True\n",
      "        Key  : Active : Sense    : Expression\n",
      "        None :   True : minimize : 1956*x[HAR,NYC] + 1606*x[HAR,LAX] + 1410*x[HAR,CHI] + 330*x[HAR,HOU] + 1096*x[MEM,NYC] + 1792*x[MEM,LAX] + 531*x[MEM,CHI] + 567*x[MEM,HOU] + 485*x[ASX,NYC] + 2322*x[ASX,LAX] + 324*x[ASX,CHI] + 1236*x[ASX,HOU]\n",
      "\n",
      "3 Constraint Declarations\n",
      "    bound_y : Size=12, Index=bound_y_index, Active=True\n",
      "        Key : Lower : Body                : Upper : Active\n",
      "          1 :  -Inf : x[HAR,NYC] - y[HAR] :   0.0 :   True\n",
      "          2 :  -Inf : x[HAR,LAX] - y[HAR] :   0.0 :   True\n",
      "          3 :  -Inf : x[HAR,CHI] - y[HAR] :   0.0 :   True\n",
      "          4 :  -Inf : x[HAR,HOU] - y[HAR] :   0.0 :   True\n",
      "          5 :  -Inf : x[MEM,NYC] - y[MEM] :   0.0 :   True\n",
      "          6 :  -Inf : x[MEM,LAX] - y[MEM] :   0.0 :   True\n",
      "          7 :  -Inf : x[MEM,CHI] - y[MEM] :   0.0 :   True\n",
      "          8 :  -Inf : x[MEM,HOU] - y[MEM] :   0.0 :   True\n",
      "          9 :  -Inf : x[ASX,NYC] - y[ASX] :   0.0 :   True\n",
      "         10 :  -Inf : x[ASX,LAX] - y[ASX] :   0.0 :   True\n",
      "         11 :  -Inf : x[ASX,CHI] - y[ASX] :   0.0 :   True\n",
      "         12 :  -Inf : x[ASX,HOU] - y[ASX] :   0.0 :   True\n",
      "    num_facilities : Size=1, Index=None, Active=True\n",
      "        Key  : Lower : Body                     : Upper : Active\n",
      "        None :  -Inf : y[HAR] + y[MEM] + y[ASX] :   3.0 :   True\n",
      "    single_x : Size=4, Index=single_x_index, Active=True\n",
      "        Key : Lower : Body                                 : Upper : Active\n",
      "          1 :   1.0 : x[HAR,NYC] + x[MEM,NYC] + x[ASX,NYC] :   1.0 :   True\n",
      "          2 :   1.0 : x[HAR,LAX] + x[MEM,LAX] + x[ASX,LAX] :   1.0 :   True\n",
      "          3 :   1.0 : x[HAR,CHI] + x[MEM,CHI] + x[ASX,CHI] :   1.0 :   True\n",
      "          4 :   1.0 : x[HAR,HOU] + x[MEM,HOU] + x[ASX,HOU] :   1.0 :   True\n",
      "\n",
      "12 Declarations: x_index_0 x_index_1 x_index x y_index y obj single_x_index single_x bound_y_index bound_y num_facilities\n"
     ]
    }
   ],
   "source": [
    "solver = SolverFactory('glpk')\n",
    "solver.solve(model, tee=False)\n",
    "\n",
    "print()\n",
    "print('*** Solution *** :')\n",
    "print()\n",
    "\n",
    "for i in model.Locations:\n",
    "    if model.y[i] == 1:\n",
    "        print(\"Warehouse at\",i, \"serving:\")\n",
    "    else:\n",
    "        continue\n",
    "    for j in model.Customers:\n",
    "        if model.x[i,j] != 0:\n",
    "            print(\"-->\", j, \"-- {}%\".format(value(model.x[i,j])*100))\n",
    "    print()\n",
    "    \n",
    "print()\n",
    "print('*** Cost *** :',\"$\",\"%.2f\" %value(model.obj))\n",
    "print()\n",
    "\n",
    "#Another way to display the results\n",
    "for wl in N:\n",
    "    if value(model.y[wl]) > 0.5:\n",
    "        customers = [str(cl) for cl in M if value(model.x[wl, cl]) > 0.5]\n",
    "        print(str(wl)+\" serves customers: \"+str(customers))\n",
    "    else:\n",
    "        print(str(wl)+\": do not build\")\n",
    "\n",
    "print()\n",
    "print()\n",
    "\n",
    "print(\"OPTIMIZATION MODEL DETAILS:\")\n",
    "print()\n",
    "\n",
    "# This summarizes the information in the Pyomo model, including the constraint and objective expressions.\n",
    "# It can be a very useful debugging tool when a model is not generating the expected results,\n",
    "# since it shows the fully expanded version of the model\n",
    "model.pprint()        "
   ]
  }
 ],
 "metadata": {
  "kernelspec": {
   "display_name": "Python 3",
   "language": "python",
   "name": "python3"
  },
  "language_info": {
   "codemirror_mode": {
    "name": "ipython",
    "version": 3
   },
   "file_extension": ".py",
   "mimetype": "text/x-python",
   "name": "python",
   "nbconvert_exporter": "python",
   "pygments_lexer": "ipython3",
   "version": "3.7.6"
  }
 },
 "nbformat": 4,
 "nbformat_minor": 4
}
