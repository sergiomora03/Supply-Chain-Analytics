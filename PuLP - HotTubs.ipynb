{
 "cells": [
  {
   "cell_type": "markdown",
   "metadata": {},
   "source": [
    "# Supply Chain Analytics - PuLP - HotTubs"
   ]
  },
  {
   "cell_type": "markdown",
   "metadata": {},
   "source": [
    "Identify the Decision Variables\n",
    "\n",
    "* $x_A$ = number of Aqua-Spa hot tubs to produce\n",
    "* $x_H$ = number of Hydro-Lux hot tubs to produce\n",
    "\n",
    "State the Objective Function\n",
    "\n",
    "* maximize $350x_A + 300x_H$ −→ linear combination of the decision variables\n",
    "\n",
    "State the Constraints\n",
    "* $1x_A + 1x_H ≤ 200$ −→ pumps\n",
    "* $9x_A + 6x_H ≤ 1,566$ −→ labor\n",
    "* $12x_A + 16x_H ≤ 2,880$ −→ tubing\n",
    "\n",
    "Identify any upper or lower bounds on the decision variables\n",
    "* $x_A ≥ 0$\n",
    "* $x_H ≥ 0$\n",
    "\n",
    "These are known as $\\color{blue}{\\textbf{nonnegativity constraints}}$"
   ]
  },
  {
   "cell_type": "markdown",
   "metadata": {},
   "source": [
    "Complete Algebraic Formulation\n",
    "\n",
    "\\begin{equation*}\n",
    "\\begin{aligned}\n",
    "& {\\text{maximize}}\n",
    "& & 350 x_A + 300 x_H & \\color{blue}{\\longrightarrow \\textbf{Profit Maximization (1)}}\\\\[2mm]\n",
    "& \\text{subject to}&&\\\\[2mm]\n",
    "& & & 1 x_A + 1 x_H ≤ 200 & \\color{blue}{\\longrightarrow \\textbf{Number of pumps used ≤ Number of pumps available (2)}}\\\\[2mm]\n",
    "& & & 9 x_A + 6 x_H ≤ 1,566 & \\color{blue}{\\longrightarrow \\textbf{Hours of labor used ≤ Hours of labor available (3)}}\\\\[2mm]\n",
    "& & & 12 x_A + 16 x_H ≤ 2,880 & \\color{blue}{\\longrightarrow \\textbf{Feet of tubing used ≤ Feet of tubing available (4)}}\\\\[2mm]\n",
    "& & & x_A, x_H ≥ 0 & \\color{blue}{\\longrightarrow \\textbf{Nonnegativity (5)}}\\\\[2mm]\n",
    "\\end{aligned}\n",
    "\\end{equation*}\n"
   ]
  },
  {
   "cell_type": "code",
   "execution_count": 1,
   "metadata": {},
   "outputs": [],
   "source": [
    "import pulp"
   ]
  },
  {
   "cell_type": "code",
   "execution_count": 2,
   "metadata": {},
   "outputs": [],
   "source": [
    "HotTubs = pulp.LpProblem(\"HotTubs\", pulp.LpMaximize)"
   ]
  },
  {
   "cell_type": "code",
   "execution_count": 3,
   "metadata": {},
   "outputs": [],
   "source": [
    "# Decision Variables \n",
    "xa = pulp.LpVariable('xa', lowBound=0, cat='Continuous')\n",
    "xh = pulp.LpVariable('xh', lowBound=0, cat='Continuous')"
   ]
  },
  {
   "cell_type": "code",
   "execution_count": 4,
   "metadata": {},
   "outputs": [],
   "source": [
    "# Objective function\n",
    "HotTubs += 350 * xa + 300 * xh, \"Profit\"\n",
    "\n",
    "# Constraints\n",
    "HotTubs += xa + xh <= 200\n",
    "HotTubs += 9*xa + 6*xh <= 1566\n",
    "HotTubs += 12*xa + 16*xh <= 2880"
   ]
  },
  {
   "cell_type": "code",
   "execution_count": 5,
   "metadata": {},
   "outputs": [
    {
     "data": {
      "text/plain": [
       "HotTubs:\n",
       "MAXIMIZE\n",
       "350*xa + 300*xh + 0\n",
       "SUBJECT TO\n",
       "_C1: xa + xh <= 200\n",
       "\n",
       "_C2: 9 xa + 6 xh <= 1566\n",
       "\n",
       "_C3: 12 xa + 16 xh <= 2880\n",
       "\n",
       "VARIABLES\n",
       "xa Continuous\n",
       "xh Continuous"
      ]
     },
     "execution_count": 5,
     "metadata": {},
     "output_type": "execute_result"
    }
   ],
   "source": [
    "HotTubs"
   ]
  },
  {
   "cell_type": "code",
   "execution_count": 6,
   "metadata": {},
   "outputs": [
    {
     "data": {
      "text/plain": [
       "'Optimal'"
      ]
     },
     "execution_count": 6,
     "metadata": {},
     "output_type": "execute_result"
    }
   ],
   "source": [
    "# Call Solver (CBC by default)\n",
    "HotTubs.solve()\n",
    "pulp.LpStatus[HotTubs.status]"
   ]
  },
  {
   "cell_type": "code",
   "execution_count": 7,
   "metadata": {},
   "outputs": [
    {
     "name": "stdout",
     "output_type": "stream",
     "text": [
      "xa* = 122.0\n",
      "xh* = 78.0\n"
     ]
    }
   ],
   "source": [
    "# Display Optimal Solution\n",
    "for variable in HotTubs.variables():\n",
    "    print (\"{}* = {}\".format(variable.name, variable.varValue))"
   ]
  }
 ],
 "metadata": {
  "kernelspec": {
   "display_name": "Python 3",
   "language": "python",
   "name": "python3"
  },
  "language_info": {
   "codemirror_mode": {
    "name": "ipython",
    "version": 3
   },
   "file_extension": ".py",
   "mimetype": "text/x-python",
   "name": "python",
   "nbconvert_exporter": "python",
   "pygments_lexer": "ipython3",
   "version": "3.7.6"
  }
 },
 "nbformat": 4,
 "nbformat_minor": 2
}