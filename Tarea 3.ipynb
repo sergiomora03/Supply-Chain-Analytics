{
 "cells": [
  {
   "cell_type": "markdown",
   "metadata": {},
   "source": [
    "# Tarea 3\n",
    "## Supply Chain Analytics\n",
    "\n",
    "### Maestría en Inteligencia Analítica para la Toma de Decisiones\n",
    "#### Universidad de los Andes\n",
    "#### Bogotá - 2020"
   ]
  },
  {
   "cell_type": "markdown",
   "metadata": {},
   "source": [
    "### Replique el problema de localización y asignación visto en clase (programa no lineal) usando Pyomo."
   ]
  },
  {
   "cell_type": "markdown",
   "metadata": {},
   "source": [
    "# Cargue de librerías a usar"
   ]
  },
  {
   "cell_type": "code",
   "execution_count": 1,
   "metadata": {
    "tags": []
   },
   "outputs": [],
   "source": [
    "#Librerias par el procesamiento de los datos\n",
    "import pandas as pd\n",
    "import numpy as np\n",
    "#Librerias para visuzalización gráfica\n",
    "import matplotlib.pyplot as plt\n",
    "#Libreria para el modelo de optimización\n",
    "from pyomo.environ import *"
   ]
  },
  {
   "cell_type": "markdown",
   "metadata": {},
   "source": [
    "# Modelado\n",
    "## Definición de las variables del modelo"
   ]
  },
  {
   "cell_type": "code",
   "execution_count": 2,
   "metadata": {},
   "outputs": [],
   "source": [
    "#Datos\n",
    "#Variable para la cantidad máxima de fábricas a instalar\n",
    "P = 4 \n",
    "#Variable para las ciudades de las fábricas a instalar, también la usaremos como variable de la demanda\n",
    "C = ['Atlanta', 'Boston', 'Charlotte', 'Chicago', 'Cincinnati', 'Detroit', 'New York', 'Pittsburgh', 'St. Louis']\n",
    "#Demanda por ciudad\n",
    "D = {'Atlanta':572000, 'Boston':610000, 'Charlotte':723000,\\\n",
    "    'Chicago':2870000, 'Cincinnati':333000, 'Detroit':901000,\\\n",
    "    'New York':8450000, 'Pittsburgh':306000, 'St. Louis':350000\n",
    "}\n",
    "#Distancia entre ciudades\n",
    "d = {\t('Atlanta','Atlanta'):0,\\\n",
    "\t('Boston','Atlanta'):1099,\\\n",
    "\t('Charlotte','Atlanta'):245,\\\n",
    "\t('Chicago','Atlanta'):720,\\\n",
    "\t('Cincinnati','Atlanta'):461,\\\n",
    "\t('Detroit','Atlanta'):722,\\\n",
    "\t('New York','Atlanta'):884,\\\n",
    "\t('Pittsburgh','Atlanta'):685,\\\n",
    "\t('St. Louis','Atlanta'):555,\\\n",
    "\t('Atlanta','Boston'):1099,\\\n",
    "\t('Boston','Boston'):0,\\\n",
    "\t('Charlotte','Boston'):867,\\\n",
    "\t('Chicago','Boston'):996,\\\n",
    "\t('Cincinnati','Boston'):907,\\\n",
    "\t('Detroit','Boston'):721,\\\n",
    "\t('New York','Boston'):219,\\\n",
    "\t('Pittsburgh','Boston'):589,\\\n",
    "\t('St. Louis','Boston'):1217,\\\n",
    "\t('Atlanta','Charlotte'):245,\\\n",
    "\t('Boston','Charlotte'):867,\\\n",
    "\t('Charlotte','Charlotte'):0,\\\n",
    "\t('Chicago','Charlotte'):769,\\\n",
    "\t('Cincinnati','Charlotte'):479,\\\n",
    "\t('Detroit','Charlotte'):629,\\\n",
    "\t('New York','Charlotte'):645,\\\n",
    "\t('Pittsburgh','Charlotte'):448,\\\n",
    "\t('St. Louis','Charlotte'):715,\\\n",
    "\t('Atlanta','Chicago'):720,\\\n",
    "\t('Boston','Chicago'):996,\\\n",
    "\t('Charlotte','Chicago'):769,\\\n",
    "\t('Chicago','Chicago'):0,\\\n",
    "\t('Cincinnati','Chicago'):296,\\\n",
    "\t('Detroit','Chicago'):283,\\\n",
    "\t('New York','Chicago'):790,\\\n",
    "\t('Pittsburgh','Chicago'):461,\\\n",
    "\t('St. Louis','Chicago'):297,\\\n",
    "\t('Atlanta','Cincinnati'):461,\\\n",
    "\t('Boston','Cincinnati'):907,\\\n",
    "\t('Charlotte','Cincinnati'):479,\\\n",
    "\t('Chicago','Cincinnati'):296,\\\n",
    "\t('Cincinnati','Cincinnati'):0,\\\n",
    "\t('Detroit','Cincinnati'):263,\\\n",
    "\t('New York','Cincinnati'):667,\\\n",
    "\t('Pittsburgh','Cincinnati'):288,\\\n",
    "\t('St. Louis','Cincinnati'):359,\\\n",
    "\t('Atlanta','Detroit'):722,\\\n",
    "\t('Boston','Detroit'):721,\\\n",
    "\t('Charlotte','Detroit'):629,\\\n",
    "\t('Chicago','Detroit'):283,\\\n",
    "\t('Cincinnati','Detroit'):263,\\\n",
    "\t('Detroit','Detroit'):0,\\\n",
    "\t('New York','Detroit'):614,\\\n",
    "\t('Pittsburgh','Detroit'):286,\\\n",
    "\t('St. Louis','Detroit'):531,\\\n",
    "\t('Atlanta','New York'):884,\\\n",
    "\t('Boston','New York'):219,\\\n",
    "\t('Charlotte','New York'):645,\\\n",
    "\t('Chicago','New York'):790,\\\n",
    "\t('Cincinnati','New York'):667,\\\n",
    "\t('Detroit','New York'):614,\\\n",
    "\t('New York','New York'):0,\\\n",
    "\t('Pittsburgh','New York'):371,\\\n",
    "\t('St. Louis','New York'):976,\\\n",
    "\t('Atlanta','Pittsburgh'):685,\\\n",
    "\t('Boston','Pittsburgh'):589,\\\n",
    "\t('Charlotte','Pittsburgh'):448,\\\n",
    "\t('Chicago','Pittsburgh'):461,\\\n",
    "\t('Cincinnati','Pittsburgh'):288,\\\n",
    "\t('Detroit','Pittsburgh'):286,\\\n",
    "\t('New York','Pittsburgh'):371,\\\n",
    "\t('Pittsburgh','Pittsburgh'):0,\\\n",
    "\t('St. Louis','Pittsburgh'):602,\\\n",
    "\t('Atlanta','St. Louis'):555,\\\n",
    "\t('Boston','St. Louis'):1217,\\\n",
    "\t('Charlotte','St. Louis'):715,\\\n",
    "\t('Chicago','St. Louis'):297,\\\n",
    "\t('Cincinnati','St. Louis'):359,\\\n",
    "\t('Detroit','St. Louis'):531,\\\n",
    "\t('New York','St. Louis'):976,\\\n",
    "\t('Pittsburgh','St. Louis'):602,\\\n",
    "\t('St. Louis','St. Louis'):0,\n",
    " }"
   ]
  },
  {
   "cell_type": "code",
   "execution_count": 3,
   "metadata": {
    "tags": []
   },
   "outputs": [],
   "source": [
    "#Creamos el modelo y definimos los conjuntos de fábricas y clientes\n",
    "model = ConcreteModel()\n",
    "model.Locations = C\n",
    "model.Customers = C\n",
    "#Creamos la variable x como una matriz binaria, compuesta entre fábricas y clientes\n",
    "model.x = Var(model.Locations, model.Customers, bounds=(0.0,1.0))   \n",
    "#Creamos la variable que me indica si debo abrir una fábrica ahí\n",
    "model.y = Var(model.Locations, within = Binary)\n",
    "#Definimos nuestra variable objetivo como la demanda ponderada por distancia de las fabricas abiertas,\n",
    "#que atienden a determinados clientes\n",
    "model.obj = Objective(expr = sum(d[n,m]*model.x[n,m]*D[m] for n in model.Locations for m in model.Customers))"
   ]
  },
  {
   "cell_type": "code",
   "execution_count": 4,
   "metadata": {},
   "outputs": [],
   "source": [
    "#Definimos nuestras restricciones\n",
    "#Restricciones para X\n",
    "model.single_x = ConstraintList()\n",
    "#Todos los clientes deben ser satisfechos por 1 SOLA fábrica\n",
    "for m in model.Customers:\n",
    "    model.single_x.add(sum( model.x[n,m] for n in model.Locations ) == 1.0)\n",
    "model.bound_y = ConstraintList()\n",
    "for n in model.Locations:\n",
    "    for m in model.Customers:\n",
    "        model.bound_y.add(model.x[n,m] <= model.y[n])\n",
    "#Puedo abrir un máximo de P fábricas, en este caso, 4\n",
    "model.num_facilities = Constraint(expr=sum( model.y[n] for n in model.Locations ) <= P)"
   ]
  },
  {
   "cell_type": "code",
   "execution_count": 5,
   "metadata": {
    "tags": []
   },
   "outputs": [
    {
     "name": "stdout",
     "output_type": "stream",
     "text": [
      "╔═════════════════════╗\n",
      "║       Solución      ║\n",
      "╚═════════════════════╝\n",
      "La fábrica en  Charlotte atiende:\n",
      "--> Atlanta -- 100.0%\n",
      "--> Charlotte -- 100.0%\n",
      "\n",
      "La fábrica en  Chicago atiende:\n",
      "--> Chicago -- 100.0%\n",
      "--> St. Louis -- 100.0%\n",
      "\n",
      "La fábrica en  Detroit atiende:\n",
      "--> Cincinnati -- 100.0%\n",
      "--> Detroit -- 100.0%\n",
      "--> Pittsburgh -- 100.0%\n",
      "\n",
      "La fábrica en  New York atiende:\n",
      "--> Boston -- 100.0%\n",
      "--> New York -- 100.0%\n",
      "\n",
      "\n",
      "╔═════════════════════╗\n",
      "║   Función Objetivo  ║\n",
      "╚═════════════════════╝\n",
      "Valor de la función objetivo :552775000\n",
      "\n",
      "╔═════════════════════╗\n",
      "║ Detalle por fábrica ║\n",
      "╚═════════════════════╝\n",
      "Atlanta: NO se debe construir\n",
      "Boston: NO se debe construir\n",
      "Charlotte Atiende los clientes de: ['Atlanta', 'Charlotte']\n",
      "Chicago Atiende los clientes de: ['Chicago', 'St. Louis']\n",
      "Cincinnati: NO se debe construir\n",
      "Detroit Atiende los clientes de: ['Cincinnati', 'Detroit', 'Pittsburgh']\n",
      "New York Atiende los clientes de: ['Boston', 'New York']\n",
      "Pittsburgh: NO se debe construir\n",
      "St. Louis: NO se debe construir\n"
     ]
    }
   ],
   "source": [
    "#Creamos el solver como GLPK (GNU Linear Programming KIT)\n",
    "solver = SolverFactory('glpk')\n",
    "#Solucionamos el modelo como minimización de la función objetivo\n",
    "solver.solve(model, tee=False)\n",
    "print('╔═════════════════════╗')\n",
    "print('║       Solución      ║')\n",
    "print('╚═════════════════════╝')\n",
    "\n",
    "for i in model.Locations:\n",
    "    if model.y[i] == 1:\n",
    "        print(\"La fábrica en \",i, \"atiende:\")\n",
    "    else:\n",
    "        continue\n",
    "    for j in model.Customers:\n",
    "        if model.x[i,j] != 0:\n",
    "            print(\"-->\", j, \"-- {}%\".format(value(model.x[i,j])*100))\n",
    "    print()\n",
    "print()\n",
    "print('╔═════════════════════╗')\n",
    "print('║   Función Objetivo  ║')\n",
    "print('╚═════════════════════╝')\n",
    "print(\"Valor de la función objetivo :%.0f\" %value(model.obj))\n",
    "\n",
    "print()\n",
    "print('╔═════════════════════╗')\n",
    "print('║ Detalle por fábrica ║')\n",
    "print('╚═════════════════════╝')\n",
    "for wl in C:\n",
    "    if value(model.y[wl]) > 0.5:\n",
    "        customers = [str(cl) for cl in C if value(model.x[wl, cl]) > 0.5]\n",
    "        print(str(wl)+\" Atiende los clientes de: \"+str(customers))\n",
    "    else:\n",
    "        print(str(wl)+\": NO se debe construir\")"
   ]
  }
 ],
 "metadata": {
  "kernelspec": {
   "display_name": "Python 3.7.6 64-bit ('base': conda)",
   "language": "python",
   "name": "python_defaultSpec_1596068753736"
  },
  "language_info": {
   "codemirror_mode": {
    "name": "ipython",
    "version": 3
   },
   "file_extension": ".py",
   "mimetype": "text/x-python",
   "name": "python",
   "nbconvert_exporter": "python",
   "pygments_lexer": "ipython3",
   "version": "3.7.6-final"
  }
 },
 "nbformat": 4,
 "nbformat_minor": 4
}
