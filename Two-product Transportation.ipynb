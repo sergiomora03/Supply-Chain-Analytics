{
 "cells": [
  {
   "cell_type": "markdown",
   "metadata": {},
   "source": [
    "# Supply Chain Analytics - Two-product Transportation Problem"
   ]
  },
  {
   "cell_type": "markdown",
   "metadata": {},
   "source": [
    "In this problem, there is a set $L$ of six locations labelled A through F. Each location is connected to each other one by a shipping link $(i,j)$ forming a network $N$, and the cost of shipping ($C_{ij}$) one ton of chemical from a location $i$ to another location $j$ is known. For example, it costs 7 dollars to send one ton of chemical from location A to location B, but only 4 dollars to ship a ton from location B to location A.  There are two chemicals, Chemical 1 and Chemical 2, but the shipping cost is the same for each. However, each link has a limited capacity $K_{ij}$.  For example, no more than 9 tons may be shipped from A to B, while no more than 16 tons may be shipped from B to A.\n",
    "\n",
    "Each location has its own supply of each chemical ($S1_{i},S2_{i}$) and its own demand for each chemical ($D1_{i},D2_{i}$). We need to find the shipping schedule that minimizes overall shipping cost. Let $x_{ij}$ and $y_{ij}$ represent the tons of chemical 1 and chemical 2, respectively, shipped from location $i$ to location $j$.\n",
    "\n",
    "\\begin{equation*}\n",
    "\\begin{aligned}\n",
    "& {\\text{minimize}}\n",
    "& & \\sum_{(i,j) \\in N}(x_{ij}+y_{ij})C_{ij} & \\color{blue}{\\longrightarrow \\textbf{Shipping cost minimization (1)}}\\\\[2mm]\n",
    "& \\text{subject to}&&\\\\[2mm]\n",
    "& & & x_{ij}+y_{ij}  \\leq  K_{ij}, \\text{ for } (i,j) \\in N & \\color{blue}{\\longrightarrow \\textbf{Arcs capacity (2)}}\\\\[2mm]\n",
    "& & & S1_{i}+\\sum_{j \\in L | i\\neq j}x_{ji}-\\sum_{j \\in L | i\\neq j}x_{ij} \\geq D1_{i}, \\text{ for } i \\in L & \\color{blue}{\\longrightarrow \\textbf{Chem1 demand satisfaction (3)}}\\\\[2mm]\n",
    "& & & S2_{i}+\\sum_{j \\in L | i\\neq j}y_{ji}-\\sum_{j \\in L | i\\neq j}y_{ij} \\geq D2_{i}, \\text{ for } i \\in L & \\color{blue}{\\longrightarrow \\textbf{Chem2 demand satisfaction (4)}}\\\\[2mm]\n",
    "& & & x_{ij},y_{ij}  \\in \\mathbb{Z}_{+}, \\text{ for } (i,j) \\in N & \\color{blue}{\\longrightarrow \\textbf{Nonegative integer variables (5)}}\\\\[2mm]\n",
    "\\end{aligned}\n",
    "\\end{equation*}"
   ]
  },
  {
   "cell_type": "code",
   "execution_count": 1,
   "metadata": {},
   "outputs": [],
   "source": [
    "# Import PuLP modeller functions\n",
    "from pulp import *"
   ]
  },
  {
   "cell_type": "code",
   "execution_count": 2,
   "metadata": {},
   "outputs": [],
   "source": [
    "# Define list of locations\n",
    "L = [\"A\",\"B\",\"C\",\"D\",\"E\",\"F\"]\n",
    "\n",
    "# Define supplies and demands\n",
    "S1 = {\"A\":28,\"B\":0, \"C\":22,\"D\":2,\"E\":30,\"F\":0}\n",
    "D1 = {\"A\":16,\"B\":11,\"C\":0, \"D\":0,\"E\":0, \"F\":6}\n",
    "S2 = {\"A\":0, \"B\":30,\"C\":15,\"D\":0,\"E\":0, \"F\":0}\n",
    "D2 = {\"A\":0, \"B\":18,\"C\":12,\"D\":0,\"E\":12,\"F\":0}\n",
    "\n",
    "Arcs_Def = [(i,j) for i in L for j in L if i!=j]\n",
    "\n",
    "C = {('A', 'B'):7, ('A', 'C'):9,  ('A', 'D'):6,  ('A', 'E'):5, ('A', 'F'):9,\n",
    "     ('B', 'A'):4, ('B', 'C'):10, ('B', 'D'):1,  ('B', 'E'):1, ('B', 'F'):4,\n",
    "     ('C', 'A'):5, ('C', 'B'):8,  ('C', 'D'):1,  ('C', 'E'):1, ('C', 'F'):1,\n",
    "     ('D', 'A'):6, ('D', 'B'):6,  ('D', 'C'):1,  ('D', 'E'):6, ('D', 'F'):5,\n",
    "     ('E', 'A'):3, ('E', 'B'):7,  ('E', 'C'):10, ('E', 'D'):6, ('E', 'F'):8,\n",
    "     ('F', 'A'):8, ('F', 'B'):3,  ('F', 'C'):5,  ('F', 'D'):3, ('F', 'E'):9}\n",
    "\n",
    "K = {('A', 'B'):9,  ('A', 'C'):17, ('A', 'D'):16, ('A', 'E'):9,  ('A', 'F'):13,\n",
    "     ('B', 'A'):16, ('B', 'C'):20, ('B', 'D'):16, ('B', 'E'):10, ('B', 'F'):5,\n",
    "     ('C', 'A'):13, ('C', 'B'):5,  ('C', 'D'):11, ('C', 'E'):12, ('C', 'F'):19,\n",
    "     ('D', 'A'):19, ('D', 'B'):10, ('D', 'C'):8,  ('D', 'E'):1,  ('D', 'F'):6,\n",
    "     ('E', 'A'):2,  ('E', 'B'):4,  ('E', 'C'):14, ('E', 'D'):14, ('E', 'F'):6,\n",
    "     ('F', 'A'):9,  ('F', 'B'):14, ('F', 'C'):16, ('F', 'D'):7,  ('F', 'E'):17}"
   ]
  },
  {
   "cell_type": "code",
   "execution_count": 3,
   "metadata": {},
   "outputs": [],
   "source": [
    "#Problem definition\n",
    "prob = LpProblem(\"Two-product-Transportation\",LpMinimize)"
   ]
  },
  {
   "cell_type": "code",
   "execution_count": 4,
   "metadata": {},
   "outputs": [],
   "source": [
    "# Decision Variables (integer variables)\n",
    "x = LpVariable.dicts(\"Chem1\",Arcs_Def,0,None,LpInteger)\n",
    "y = LpVariable.dicts(\"Chem2\",Arcs_Def,0,None,LpInteger)"
   ]
  },
  {
   "cell_type": "code",
   "execution_count": 5,
   "metadata": {},
   "outputs": [],
   "source": [
    "#Objective Function\n",
    "prob += lpSum([(x[a] + y[a])*C[a] for a in Arcs_Def]), \"Sum of Shipment Costs\""
   ]
  },
  {
   "cell_type": "code",
   "execution_count": 6,
   "metadata": {},
   "outputs": [],
   "source": [
    "#Constraints (2)\n",
    "for a in Arcs_Def:\n",
    "    prob += x[a] + y[a] <= K[a], \"Capacity arc\" + str(a)   "
   ]
  },
  {
   "cell_type": "code",
   "execution_count": 7,
   "metadata": {},
   "outputs": [],
   "source": [
    "#Constraints (3) & (4)\n",
    "for l in L:\n",
    "    prob += S1[l] + lpSum([x[a] for a in Arcs_Def if a[1] == l]) - lpSum([x[a] for a in Arcs_Def if a[0] == l]) >= D1[l], \"Net in Chem1  %s\"%l\n",
    "    prob += S2[l] + lpSum([y[a] for a in Arcs_Def if a[1] == l]) - lpSum([y[a] for a in Arcs_Def if a[0] == l]) >= D2[l], \"Net in Chem2  %s\"%l"
   ]
  },
  {
   "cell_type": "code",
   "execution_count": 8,
   "metadata": {},
   "outputs": [
    {
     "name": "stdout",
     "output_type": "stream",
     "text": [
      "Status: Optimal\n"
     ]
    }
   ],
   "source": [
    "#Solve IP\n",
    "prob.writeLP(\"Two-ProductTransportation.lp\")\n",
    "prob.solve()\n",
    "print(\"Status:\", LpStatus[prob.status])"
   ]
  },
  {
   "cell_type": "code",
   "execution_count": 9,
   "metadata": {},
   "outputs": [
    {
     "name": "stdout",
     "output_type": "stream",
     "text": [
      "Optimal Cost= $62.0\n"
     ]
    }
   ],
   "source": [
    "#Print optimal objective function value\n",
    "print(\"Optimal Cost=\", \"$\"+ str(value(prob.objective)))"
   ]
  },
  {
   "cell_type": "code",
   "execution_count": 10,
   "metadata": {},
   "outputs": [
    {
     "name": "stdout",
     "output_type": "stream",
     "text": [
      "Chem1_('C',_'F')* = 17.0\n",
      "Chem1_('F',_'B')* = 11.0\n",
      "Chem2_('B',_'E')* = 10.0\n",
      "Chem2_('C',_'E')* = 2.0\n"
     ]
    }
   ],
   "source": [
    "#Print optimal solution\n",
    "for variable in prob.variables():\n",
    "    if variable.varValue > 0:\n",
    "        print (\"{}* = {}\".format(variable.name, variable.varValue))"
   ]
  },
  {
   "cell_type": "code",
   "execution_count": null,
   "metadata": {},
   "outputs": [],
   "source": []
  }
 ],
 "metadata": {
  "kernelspec": {
   "display_name": "Python 3",
   "language": "python",
   "name": "python3"
  },
  "language_info": {
   "codemirror_mode": {
    "name": "ipython",
    "version": 3
   },
   "file_extension": ".py",
   "mimetype": "text/x-python",
   "name": "python",
   "nbconvert_exporter": "python",
   "pygments_lexer": "ipython3",
   "version": "3.7.6"
  }
 },
 "nbformat": 4,
 "nbformat_minor": 2
}
